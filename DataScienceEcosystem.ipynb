{
 "cells": [
  {
   "cell_type": "markdown",
   "id": "e5468bc2-8ae9-46bb-b183-73a09281a612",
   "metadata": {},
   "source": [
    "# Data Science Tools and Ecosystem"
   ]
  },
  {
   "cell_type": "markdown",
   "id": "1ac4e0de-beda-4b8d-a5d3-57fc8c16345c",
   "metadata": {},
   "source": [
    "In this notebook, Data Science Tools and Ecosystem are summarized."
   ]
  },
  {
   "cell_type": "markdown",
   "id": "a9e4d6de-497d-4d39-a053-6e53be0b3f4f",
   "metadata": {},
   "source": [
    "Objectives:\n",
    "- List popular languages that Data Scientists use.\n",
    "- List commonly used libraries in Data Science.\n",
    "- Create a table listing development environment open source tools.\n",
    "- Perform simple arithmetic."
   ]
  },
  {
   "cell_type": "markdown",
   "id": "abf8b875-c0ba-4e80-a62f-86a74cce341a",
   "metadata": {},
   "source": [
    "Some of the popular languages that Data Scientists use are:\n",
    "\n",
    " 1. Python\n",
    " 2. SQL\n",
    " 3. R\n",
    " 4. Julia\n"
   ]
  },
  {
   "cell_type": "markdown",
   "id": "cd7f54f4-ddcd-4604-a0f8-a518fd2b0b21",
   "metadata": {},
   "source": [
    "Some of the commonly used libraries used by Data Scientists include:\n",
    " 1. Pandas\n",
    " 2. NumPy\n",
    " 3. Matplotlib\n",
    " 4. SciPy"
   ]
  },
  {
   "cell_type": "markdown",
   "id": "b0256950-d929-4bcb-8d08-bee084b79d38",
   "metadata": {},
   "source": [
    "|Data Science Tools|\n",
    "|------------------|\n",
    "|Jupyter Notebooks|\n",
    "|R Studio|\n",
    "|Zeppelin Notebooks|"
   ]
  },
  {
   "cell_type": "markdown",
   "id": "dc6ab30e-1618-442d-b709-595306babcaa",
   "metadata": {},
   "source": [
    "### Below are a few examples of evaluating arithmetic expressions in Python:"
   ]
  },
  {
   "cell_type": "code",
   "execution_count": 7,
   "id": "fd04e493-446c-4b76-b416-dcb8b25071d8",
   "metadata": {},
   "outputs": [
    {
     "data": {
      "text/plain": [
       "17"
      ]
     },
     "execution_count": 7,
     "metadata": {},
     "output_type": "execute_result"
    }
   ],
   "source": [
    "#This a simple arithmetic expression to multiply then add integers:\n",
    "(3*4)+5"
   ]
  },
  {
   "cell_type": "code",
   "execution_count": 8,
   "id": "cf1bf23a-1c5a-46da-9f38-4f90bd95d54a",
   "metadata": {},
   "outputs": [
    {
     "data": {
      "text/plain": [
       "3.3333333333333335"
      ]
     },
     "execution_count": 8,
     "metadata": {},
     "output_type": "execute_result"
    }
   ],
   "source": [
    "#This will convert 200 minutes to hours by diving by 60:\n",
    "200/60"
   ]
  },
  {
   "cell_type": "markdown",
   "id": "a5b1d621-86d4-4a9a-9e11-813fef706926",
   "metadata": {},
   "source": [
    "## Author\n",
    "Bryan West"
   ]
  }
 ],
 "metadata": {
  "kernelspec": {
   "display_name": "Python",
   "language": "python",
   "name": "conda-env-python-py"
  },
  "language_info": {
   "codemirror_mode": {
    "name": "ipython",
    "version": 3
   },
   "file_extension": ".py",
   "mimetype": "text/x-python",
   "name": "python",
   "nbconvert_exporter": "python",
   "pygments_lexer": "ipython3",
   "version": "3.7.12"
  }
 },
 "nbformat": 4,
 "nbformat_minor": 5
}
